{
 "cells": [
  {
   "cell_type": "markdown",
   "metadata": {},
   "source": [
    "# Додаткові завдання №3"
   ]
  },
  {
   "cell_type": "markdown",
   "metadata": {},
   "source": [
    "## 1 Перевірка взаємної простоти двох чисел\n",
    "Реалізуйте алгоритм Евкліда для перевірки взаємної простоти двох чисел (у вигляді функції від двох аргументів).\n",
    "Виконайте друге завдання з **Домашньої роботи №3** (**Задача 1.3.14**) з використанням даної функції."
   ]
  },
  {
   "cell_type": "code",
   "execution_count": 1,
   "metadata": {},
   "outputs": [
    {
     "name": "stdout",
     "output_type": "stream",
     "text": [
      "teoretical for (25, 5, 3, 4): [0.001054018445322793, 0.014906832298136646, 0.8835309617918313]\n",
      "empirical for (25, 5, 3, 4): [0.00107, 0.01463, 0.88446]\n",
      "teoretical for (25, 10, 3, 4): [0.0, 2.0191142818683536e-05, 0.9940503432494279]\n",
      "empirical for (25, 10, 3, 4): [0.0, 1e-05, 0.99396]\n"
     ]
    }
   ],
   "source": [
    "# Місце для Вашого коду\n",
    "import numpy as np\n",
    "from itertools import combinations\n",
    "\n",
    "\n",
    "def is_mutually_simple(a, b):\n",
    "    while a != 0 and b != 0:\n",
    "        if a > b:\n",
    "            a = a % b\n",
    "        else:\n",
    "            b = b % a\n",
    "    return a + b == 1\n",
    "\n",
    "def teor(n, k, p, q):\n",
    "    amount = [0, 0, 0]\n",
    "    count = 0\n",
    "    for el in combinations(range(1, n+1), k):\n",
    "        count += 1\n",
    "        if all(map(lambda a: a % p == 0, el)):\n",
    "            amount[0] += 1\n",
    "        if all(map(lambda a: a % p == 0 or a % q == 0, el)):\n",
    "            amount[1] += 1\n",
    "        if any(map(lambda a: a % p == 0, el)):\n",
    "            amount[2] += 1\n",
    "\n",
    "    # just added the checking if p and q are mutually simple\n",
    "    if not is_mutually_simple(p, q):\n",
    "        a[1] = None\n",
    "    return list(map(lambda a: a / count, amount))\n",
    "\n",
    "\n",
    "def practice(n, k, p, q):\n",
    "    amount = [0, 0, 0]\n",
    "    count = 0\n",
    "    for _ in range(100000):\n",
    "        el = np.random.choice(range(1, n+1), size=k, replace=False)\n",
    "        count += 1\n",
    "        if all(map(lambda a: a % p == 0, el)):\n",
    "            amount[0] += 1\n",
    "        if all(map(lambda a: a % p == 0 or a % q == 0, el)):\n",
    "            amount[1] += 1\n",
    "        if any(map(lambda a: a % p == 0, el)):\n",
    "            amount[2] += 1\n",
    "\n",
    "    # just added the checking if p and q are mutually simple\n",
    "    if not is_mutually_simple(p, q):\n",
    "        a[1] = None\n",
    "    return list(map(lambda a: a / count, amount))\n",
    "\n",
    "\n",
    "for el in [(25, 5, 3, 4), (25, 10, 3, 4)]:\n",
    "    print('teoretical for {}: {}'.format(el, teor(*el)))\n",
    "    print('empirical for {}: {}'.format(el, practice(*el)))\n"
   ]
  },
  {
   "cell_type": "markdown",
   "metadata": {},
   "source": [
    "## 2 Аналіз функцій з класу *numpy.random*\n",
    "Проаналізуйте взаємозв'язок між функціями з класу **numpy.random**:\n",
    "- [rand](https://docs.scipy.org/doc/numpy-1.14.1/reference/generated/numpy.random.rand.html)\n",
    "- [randint](https://docs.scipy.org/doc/numpy-1.14.1/reference/generated/numpy.random.randint.html)\n",
    "- [random_integers](https://docs.scipy.org/doc/numpy-1.14.1/reference/generated/numpy.random.random_integers.html)\n",
    "- [random_sample](https://docs.scipy.org/doc/numpy-1.14.1/reference/generated/numpy.random.random_sample.html)\n",
    "- [random](https://docs.scipy.org/doc/numpy-1.14.1/reference/generated/numpy.random.random.html)\n",
    "- [ranf](https://docs.scipy.org/doc/numpy-1.14.1/reference/generated/numpy.random.ranf.html)\n",
    "- [sample](https://docs.scipy.org/doc/numpy-1.14.1/reference/generated/numpy.random.sample.html)\n",
    "- [choice](https://docs.scipy.org/doc/numpy-1.14.1/reference/generated/numpy.random.choice.html)\n",
    "- [shuffle](https://docs.scipy.org/doc/numpy-1.14.1/reference/generated/numpy.random.shuffle.html)\n",
    "- [permutation](https://docs.scipy.org/doc/numpy-1.14.1/reference/generated/numpy.random.permutation.html)"
   ]
  },
  {
   "cell_type": "code",
   "metadata": {
    "pycharm": {
     "name": "#%%\n"
    }
   },
   "source": [
    "# Місце для Вашого коду та висновків\n",
    "\n",
    "# однакові функції, в яких тільки відрізняється вигляд параметра size\n",
    "# зроблено для зручності\n",
    "print(np.random.rand(3, 2), '\\n')\n",
    "print(np.random.random_sample((3, 2)), '\\n')\n",
    "\n",
    "# в цих функціях документація з random_sample. Скоріш за все, теж зроблено для зручності\n",
    "print(np.random.random((3, 2)), '\\n')\n",
    "print(np.random.ranf((3, 2)), '\\n')\n",
    "print(np.random.sample((3, 2)), '\\n')\n",
    "\n",
    "# randint(low, hight, size, dtype) генерує випадкове число (або size чисел) з рівномірним дискретним розподілом з\n",
    "# напівінтервала [low, hight)\n",
    "# якщо hight упущений, то з напівінтервала [0, low)\n",
    "# dtype додатково вказує якого типу буде вертатись результат\n",
    "\n",
    "# random_integers(low, hight, size) генерує випадкове число (або size чисел) з рівномірним дискретним розподілом з\n",
    "# відрізка [low, hight]\n",
    "# якщо hight упущений, то з відрізка [1, low]\n",
    "\n",
    "print(np.random.randint(1, 15, size=50), '\\n')\n",
    "print(np.random.random_integers(1, 15, size=50), '\\n')\n",
    "\n",
    "\n",
    "# shuffle перемішує список/масив, а permutations створює копію списку/масиву і перемішує її\n",
    "a = np.arange(1, 100)\n",
    "print('a: ', a, '\\n')\n",
    "print('permutation: ', np.random.permutation(a), '\\n')\n",
    "print(\"a didn't change:\", a, '\\n')\n",
    "np.random.shuffle(a)\n",
    "print(\"after shuffle:\", a, '\\n')\n"
   ],
   "execution_count": 2,
   "outputs": [
    {
     "name": "stdout",
     "output_type": "stream",
     "text": [
      "[[0.16601651 0.98897549]\n",
      " [0.11555448 0.66698029]\n",
      " [0.05855759 0.50273712]] \n",
      "\n",
      "[[0.64714883 0.68865304]\n",
      " [0.20984772 0.14468761]\n",
      " [0.0357907  0.1890248 ]] \n",
      "\n",
      "[[0.40743354 0.04674506]\n",
      " [0.75902159 0.89375506]\n",
      " [0.85042719 0.47917753]] \n",
      "\n",
      "[[0.8852374  0.85878388]\n",
      " [0.60707587 0.01489572]\n",
      " [0.67792343 0.0401878 ]] \n",
      "\n",
      "[[0.15584973 0.42432085]\n",
      " [0.17052232 0.33565795]\n",
      " [0.19033692 0.62861835]] \n",
      "\n",
      "[ 6  1 12  8  2  2  8 11 13  8  3 13 10  2 10  3 12  3 10  8  3  3 11  8\n",
      "  3  1  4  9  5  2  6  6  1  4 10  8  1  5  5  8  3  5 13 10  5 13 12  6\n",
      " 13  8] \n",
      "\n",
      "[ 8  7 11  4  6 13 14  2  7 14  7  8  7  3  9 14  9  2  4 14  4  1  4 15\n",
      "  6  9  6  1 10  5  4 15  3  6  1  7 13  4 11 12 15  8  5 15  7  3 10  1\n",
      "  6 13] \n",
      "\n",
      "a:  [ 1  2  3  4  5  6  7  8  9 10 11 12 13 14 15 16 17 18 19 20 21 22 23 24\n",
      " 25 26 27 28 29 30 31 32 33 34 35 36 37 38 39 40 41 42 43 44 45 46 47 48\n",
      " 49 50 51 52 53 54 55 56 57 58 59 60 61 62 63 64 65 66 67 68 69 70 71 72\n",
      " 73 74 75 76 77 78 79 80 81 82 83 84 85 86 87 88 89 90 91 92 93 94 95 96\n",
      " 97 98 99] \n",
      "\n",
      "permutation:  [32 57 45 83 59  8 17 12 13 96 29 19 80 64 98 23 67 81 91 77 11 21 31 16\n",
      " 51 66 84 49 86 85 38 93 15 75  2 92 95 46 74 39 70  1 58 82 30 36 94  9\n",
      " 61 88 47 14  7 99 55 33 35 26 24 43 44 10 37 87 28 69 90 54 27  4  6 97\n",
      " 48 41 71 53 42 22  5 89 79 56 52 40 65 73 78 72 34 25 50  3 18 63 62 76\n",
      " 20 68 60] \n",
      "\n",
      "a didn't change: [ 1  2  3  4  5  6  7  8  9 10 11 12 13 14 15 16 17 18 19 20 21 22 23 24\n",
      " 25 26 27 28 29 30 31 32 33 34 35 36 37 38 39 40 41 42 43 44 45 46 47 48\n",
      " 49 50 51 52 53 54 55 56 57 58 59 60 61 62 63 64 65 66 67 68 69 70 71 72\n",
      " 73 74 75 76 77 78 79 80 81 82 83 84 85 86 87 88 89 90 91 92 93 94 95 96\n",
      " 97 98 99] \n",
      "\n",
      "after shuffle: [98  7 66 68 25 27 30 47 63 78 85 77 69 10 87 33  2 31 51 12 15  8  9 16\n",
      " 46 49 17 91 56 37 65 76 13 52 94 38 35 72 26 60 11 84 45 18 28 43 73 99\n",
      " 48 44 92 61 79 97 20 34 55 62 67  1 80 19 14  6 39 83 74 81 24 71 54 82\n",
      " 22 90 93 50  3 36 53 59 23  4 40 88 89 58 70 41 32 86 64 95  5 96 75 29\n",
      " 42 21 57] \n",
      "\n"
     ]
    },
    {
     "name": "stderr",
     "output_type": "stream",
     "text": [
      "C:\\Users\\TheGodfather\\AppData\\Roaming\\Python\\Python37\\site-packages\\ipykernel_launcher.py:23: DeprecationWarning: This function is deprecated. Please call randint(1, 15 + 1) instead\n"
     ]
    }
   ]
  }
 ],
 "metadata": {
  "kernelspec": {
   "name": "pycharm-1566f370",
   "language": "python",
   "display_name": "PyCharm (probability_theory_4s)"
  },
  "language_info": {
   "codemirror_mode": {
    "name": "ipython",
    "version": 3
   },
   "file_extension": ".py",
   "mimetype": "text/x-python",
   "name": "python",
   "nbconvert_exporter": "python",
   "pygments_lexer": "ipython3",
   "version": "3.6.5"
  }
 },
 "nbformat": 4,
 "nbformat_minor": 1
}