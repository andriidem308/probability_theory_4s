{
 "cells": [
  {
   "cell_type": "markdown",
   "metadata": {},
   "source": [
    "# Домашня робота №10"
   ]
  },
  {
   "cell_type": "markdown",
   "metadata": {},
   "source": [
    "# Закон великих чисел, метод Монте-Карло, центральна гранична теорема"
   ]
  },
  {
   "cell_type": "markdown",
   "metadata": {},
   "source": [
    "Деякі задачі взяті з підручника\n",
    "\n",
    "*Збірник задач з теорії ймовірностей та математичної статистики: навч. посібник / В.В. Голомозий, М.В. Карташов, К.В. Ральченко. – К.: Видавничо-поліграфічний центр «Київський університет», 2015. – 366 с.*\n",
    "\n",
    "Електронну версію збірника можна знайти [за посиланням](http://probability.univ.kiev.ua/userfiles/kmv/gkr-problems.pdf)."
   ]
  },
  {
   "cell_type": "code",
   "execution_count": 1,
   "metadata": {
    "collapsed": true
   },
   "outputs": [],
   "source": [
    "import numpy as np\n",
    "import matplotlib.pyplot as plt"
   ]
  },
  {
   "cell_type": "markdown",
   "metadata": {},
   "source": [
    "## 1 Закон великих чисел (посилений)"
   ]
  },
  {
   "cell_type": "markdown",
   "metadata": {},
   "source": [
    "Нехай $(\\xi_n, n \\geq 1)$ &mdash; н.о.р.в.в., $E[\\xi_1] = \\mu$.\n",
    "Тоді\n",
    "$$\n",
    "\\frac{\\xi_1 + \\ldots + \\xi_n}{n} \\to \\mu, \\qquad n \\to \\infty, \\quad \\text{м.н.}\n",
    "$$\n",
    "Позначимо також $S_n = \\xi_1 + \\ldots + \\xi_n$."
   ]
  },
  {
   "cell_type": "markdown",
   "metadata": {},
   "source": [
    "### 1.1 Геометричний розподіл"
   ]
  },
  {
   "cell_type": "markdown",
   "metadata": {},
   "source": [
    "Нехай $(\\xi_n, n \\geq 1)$ &mdash; н.о.р.в.в., де $\\xi_n \\sim Geom(p), n \\geq 1$.\n",
    "\n",
    "Зобразіть графічно збіжність із закону великих чисел для кожного параметра $p = 0.05, 0.25, 0.5, 0.75, 0.95$.\n",
    "\n",
    "Позначимо $S_n = \\xi_1 + \\ldots + \\xi_n$.\n",
    "\n",
    "1. Зобразіть графік функції $\\frac{S_n}{n}$ в залежності від $n = 1, \\ldots, 1000$ для кожного $p$.\n",
    "2. Додайте горизонтальну пряму, яка відповідає значенню, до якого прямує вираз $\\frac{S_n}{n}$.\n",
    "\n",
    "**Зауваження.** При розв'язанні даної задачі зручно використовувати функцію `numpy.cumsum` або відповідний метод."
   ]
  },
  {
   "cell_type": "code",
   "execution_count": 1,
   "metadata": {
    "collapsed": false
   },
   "outputs": [],
   "source": [
    "# Місце для Вашого коду\n",
    "\n"
   ]
  },
  {
   "cell_type": "markdown",
   "metadata": {},
   "source": [
    "### 1.2 Рівномірний розподіл"
   ]
  },
  {
   "cell_type": "markdown",
   "metadata": {},
   "source": [
    "Нехай $(\\xi_n, n \\geq 1)$ &mdash; н.о.р.в.в., де $\\xi_n \\sim Uniform(a, b), n \\geq 1$.\n",
    "\n",
    "Зобразіть графічно збіжність із закону великих чисел для кожної пари параметрів $[a, b] = [0, 1], [-1, 1], [-2, 5]$.\n",
    "\n",
    "Позначимо $S_n = \\xi_1 + \\ldots + \\xi_n$.\n",
    "\n",
    "1. Зобразіть графік функції $\\frac{S_n}{n}$ в залежності від $n = 1, \\ldots, 1000$ для кожної пари $[a, b]$.\n",
    "2. Додайте горизонтальну пряму, яка відповідає значенню, до якого прямує вираз $\\frac{S_n}{n}$.\n",
    "\n",
    "**Зауваження.** При розв'язанні даної задачі зручно використовувати функцію `numpy.cumsum` або відповідний метод."
   ]
  },
  {
   "cell_type": "code",
   "execution_count": 2,
   "metadata": {
    "collapsed": false
   },
   "outputs": [],
   "source": [
    "# Місце для Вашого коду\n",
    "\n"
   ]
  },
  {
   "cell_type": "markdown",
   "metadata": {},
   "source": [
    "### 1.3 Задача 1.18.19"
   ]
  },
  {
   "cell_type": "markdown",
   "metadata": {},
   "source": [
    "Випадкові величини $(\\epsilon_n, n \\geq -m)$ незалежні однаково розподілені та квадратично інтегровні.\n",
    "Довести, що для величин $\\xi_n = \\sum_{k=0}^{m} c_k \\epsilon_{n-k}$\n",
    "виконується закон великих чисел, де $c_k$ &mdash; довільні сталі.\n",
    "\n",
    "Нехай $\\epsilon_n \\sim N(0, 1)$.\n",
    "Сталі $c_0, \\ldots, c_m$ згенеруйте зі стандартного рівномірного розподілу.\n",
    "\n",
    "Зобразіть графічно збіжність із закону великих чисел для $\\xi_n$ для кожного параметра $m = 1, 3, 5, 10, 25, 50, 100$.\n",
    "\n",
    "Позначимо $S_n = \\xi_0 + \\ldots + \\xi_n$.\n",
    "\n",
    "1. Зобразіть графік функції $\\frac{S_n}{n}$ в залежності від $n = 1, \\ldots, 10000$ для кожного $m$.\n",
    "2. Додайте горизонтальну пряму, яка відповідає значенню, до якого прямує вираз $\\frac{S_n}{n}$.\n",
    "\n",
    "**Зауваження.** При розв'язанні даної задачі зручно використовувати функцію `numpy.cumsum` або відповідний метод."
   ]
  },
  {
   "cell_type": "code",
   "execution_count": 3,
   "metadata": {
    "collapsed": false,
    "scrolled": false
   },
   "outputs": [],
   "source": [
    "# Місце для Вашого коду\n",
    "\n"
   ]
  },
  {
   "cell_type": "markdown",
   "metadata": {},
   "source": [
    "## 2 Метод Монте-Карло"
   ]
  },
  {
   "cell_type": "markdown",
   "metadata": {},
   "source": [
    "Метод Монте-Карло полягає в наближеному обчисленні інтегралів за допомогою випадкових величин.\n",
    "$$\n",
    "\\idotsint_{A} f \\left( \\overrightarrow{x} \\right) \\, d\\overrightarrow{x} \n",
    "= \\idotsint_{\\mathbf{R^d}} f \\left( \\overrightarrow{x} \\right) I_{A} \\left( \\overrightarrow{x} \\right) \\, d\\overrightarrow{x}\n",
    "= \\idotsint_{\\mathbf{R^d}}\n",
    "\\frac{f \\left( \\overrightarrow{x} \\right) I_{A} \\left( \\overrightarrow{x} \\right)}{f_{\\overrightarrow{\\xi}} \\left( \\overrightarrow{x} \\right)}\n",
    "f_{\\overrightarrow{\\xi}} \\left( \\overrightarrow{x} \\right) \\, d\\overrightarrow{x}\n",
    "= E \\left[ \\frac{f \\left( \\overrightarrow{x} \\right) I_{A} \\left( \\overrightarrow{x} \\right)}\n",
    "{f_{\\overrightarrow{\\xi}} \\left( \\overrightarrow{x} \\right)} \\right]\n",
    "\\approx \\frac{1}{n} \\sum_{i=1}^{n} \\frac{f \\left( \\overrightarrow{\\xi}_i \\right) I_{A} \\left( \\overrightarrow{\\xi}_i \\right)}\n",
    "{f_{\\overrightarrow{\\xi}} \\left( \\overrightarrow{\\xi}_i \\right)},\n",
    "$$\n",
    "де $f$ &mdash; деяка функція,\n",
    "$I_B$ &mdash; індикатор множини $B$,\n",
    "$\\overrightarrow{\\xi}, \\overrightarrow{\\xi}_i, i = 1, \\ldots, n$, &mdash; н.о.р.в.в. на множині $C \\supset A$\n",
    "зі щільністю $f_{\\overrightarrow{\\xi}}$.\n",
    "\n",
    "Або, в одномірному випадку,\n",
    "$$\n",
    "\\int_{a}^{b} f(x) \\, dx\n",
    "= \\int_{-\\infty}^{+\\infty} f(x) I_{(a, b)}(x) \\, dx\n",
    "= \\int_{-\\infty}^{+\\infty} \\frac{f(x) I_{(a, b)}(x)}{f_{\\xi}(x)} f_{\\xi}(x) \\, dx\n",
    "= E\\left[ \\frac{f(\\xi) I_{(a, b)}(\\xi)}{f_{\\xi}(\\xi)} \\right]\n",
    "\\approx \\frac{1}{n} \\sum_{i=1}^{n} \\frac{f(\\xi_i) I_{(a, b)}(\\xi_i)}{f_{\\xi}(\\xi_i)},\n",
    "$$\n",
    "де $a, b \\in \\mathbf{R} \\cup \\{-\\infty, +\\infty\\}$,\n",
    "$I_B$ &mdash; індикатор множини $B$,\n",
    "$f$ &mdash; деяка функція,\n",
    "$\\xi, \\xi_i, i = 1, \\ldots, n$, &mdash; н.о.р.в.в. на множині $A \\supset (a, b)$ зі щільністю $f_{\\xi}$.\n",
    "\n",
    "Або\n",
    "$$\n",
    "\\int_{A} f(x) \\, dx\n",
    "= E\\left[ f(\\xi) \\right] m(A)\n",
    "\\approx \\frac{1}{n} \\sum_{i=1}^{n} f(\\xi_i) m(A),\n",
    "$$\n",
    "де $f$ &mdash; деяка функція,\n",
    "$\\xi, \\xi_i, i = 1, \\ldots, n$, &mdash; н.о.р.в.в., рівномірно розподілені на множині $A$."
   ]
  },
  {
   "cell_type": "markdown",
   "metadata": {},
   "source": [
    "### 2.1 Завдання 2.1"
   ]
  },
  {
   "cell_type": "markdown",
   "metadata": {},
   "source": [
    "Порахуйте наближено $\\displaystyle \\int_{0}^{1} \\sin x \\, dx$ за допомогою метода Монте-Карло.\n",
    "\n",
    "1. Зобразіть графік функції $\\displaystyle \\frac{1}{n} \\sum_{i=1}^{n} f(\\xi_i) m(A)$\n",
    "в залежності від $n = 1, \\ldots, 1000$.\n",
    "2. Додайте горизонтальну пряму, яка відповідає теоретичному значенню інтеграла, тобто до якого прямує вираз\n",
    "$\\displaystyle \\frac{1}{n} \\sum_{i=1}^{n} f(\\xi_i) m(A)$.\n",
    "\n",
    "**Зауваження 1.** При розв'язанні даної задачі зручно використовувати функцію `numpy.cumsum`.\n",
    "\n",
    "**Зауваження 2.** При розв'язанні даної задачі зручно взяти $\\xi_i \\sim Uniform(0, 1)$."
   ]
  },
  {
   "cell_type": "code",
   "execution_count": 4,
   "metadata": {
    "collapsed": false
   },
   "outputs": [],
   "source": [
    "# Місце для Вашого коду\n",
    "\n"
   ]
  },
  {
   "cell_type": "markdown",
   "metadata": {},
   "source": [
    "### 2.2 Завдання 2.2"
   ]
  },
  {
   "cell_type": "markdown",
   "metadata": {},
   "source": [
    "Порахуйте наближено $\\displaystyle \\int_{1}^{\\infty} \\frac{1}{x^3} \\, dx$ за допомогою метода Монте-Карло.\n",
    "\n",
    "1. Зобразіть графік функції $\\displaystyle \\frac{1}{n} \\sum_{i=1}^{n} \\frac{f(\\xi_i) I_{(a, b)}(\\xi_i)}{f_{\\xi}(\\xi_i)}$\n",
    "в залежності від $n = 1, \\ldots, 10000$,\n",
    "де $\\xi, \\xi_i \\sim Exp(1)$.\n",
    "2. Зобразіть графік функції $\\displaystyle \\frac{1}{n} \\sum_{i=1}^{n} \\frac{f(\\xi_i) I_{(a, b)}(\\xi_i)}{f_{\\xi}(\\xi_i)}$\n",
    "в залежності від $n = 1, \\ldots, 10000$,\n",
    "де $\\xi, \\xi_i \\sim N(0, 1)$.\n",
    "3. Додайте горизонтальну пряму, яка відповідає теоретичному значенню інтеграла, тобто до якого прямує вираз\n",
    "$\\displaystyle \\frac{1}{n} \\sum_{i=1}^{n} \\frac{f(\\xi_i) I_{(a, b)}(\\xi_i)}{f_{\\xi}(\\xi_i)}$.\n",
    "4. Порівняйте точність наближення з пунктів $1, 2$.\n",
    "\n",
    "**Зауваження 1.** При розв'язанні даної задачі зручно використовувати функцію `numpy.cumsum`.\n",
    "\n",
    "**Зауваження 2.** Замість введення індикатора можна взяти такі $\\xi_i$, що $(\\xi_i - 1) \\sim Exp(1)$.\n",
    "Тобто поставити параметр `loc=1`.\n",
    "Тоді\n",
    "$$\n",
    "\\int_{1}^{\\infty} f(x) \\, dx\n",
    "= \\int_{1}^{\\infty} \\frac{f(x)}{f_{\\xi}(x)} f_{\\xi}(x) \\, dx\n",
    "= E\\left[ \\frac{f(\\xi)}{f_{\\xi}(\\xi)} \\right]\n",
    "\\approx \\frac{1}{n} \\sum_{i=1}^{n} \\frac{f(\\xi_i)}{f_{\\xi}(\\xi_i)}.\n",
    "$$"
   ]
  },
  {
   "cell_type": "code",
   "execution_count": 5,
   "metadata": {
    "collapsed": false
   },
   "outputs": [],
   "source": [
    "# Місце для Вашого коду\n",
    "\n"
   ]
  },
  {
   "cell_type": "markdown",
   "metadata": {},
   "source": [
    "### 2.3 Завдання 2.3"
   ]
  },
  {
   "cell_type": "markdown",
   "metadata": {},
   "source": [
    "Порахуйте наближено $\\displaystyle \\int_{-\\infty}^{+\\infty} e^{-|x|} \\, dx$ за допомогою метода Монте-Карло.\n",
    "\n",
    "1. Зобразіть графік функції $\\displaystyle \\frac{1}{n} \\sum_{i=1}^{n} \\frac{f(\\xi_i) I_{(a, b)}(\\xi_i)}{f_{\\xi}(\\xi_i)}$\n",
    "в залежності від $n = 1, \\ldots, 10000$,\n",
    "де $\\xi, \\xi_i \\sim N(0, 1)$.\n",
    "2. Додайте горизонтальну пряму, яка відповідає теоретичному значенню інтеграла, тобто до якого прямує вираз\n",
    "$\\displaystyle \\frac{1}{n} \\sum_{i=1}^{n} \\frac{f(\\xi_i) I_{(a, b)}(\\xi_i)}{f_{\\xi}(\\xi_i)}$.\n",
    "\n",
    "**Зауваження.** При розв'язанні даної задачі зручно використовувати функцію `numpy.cumsum`."
   ]
  },
  {
   "cell_type": "code",
   "execution_count": 6,
   "metadata": {
    "collapsed": false
   },
   "outputs": [],
   "source": [
    "# Місце для Вашого коду\n",
    "\n"
   ]
  },
  {
   "cell_type": "markdown",
   "metadata": {},
   "source": [
    "## 3 Центральна гранична теорема"
   ]
  },
  {
   "cell_type": "markdown",
   "metadata": {},
   "source": [
    "Нехай $(\\xi_n, n \\geq 1)$ &mdash; н.о.р.в.в., $E[\\xi_1] = \\mu, D(\\xi_1) = \\sigma^2$.\n",
    "Позначимо також $S_n = \\xi_1 + \\ldots + \\xi_n$.\n",
    "Тоді\n",
    "$$\n",
    "\\sqrt{n} \\left( \\frac{S_n}{n} - \\mu \\right) = \\frac{1}{\\sqrt{n}} \\sum_{i=1}^{n} (\\xi_i - \\mu) \\to \\zeta,\n",
    "\\qquad n \\to \\infty,\n",
    "$$\n",
    "де $\\zeta \\sim N(0, \\sigma^2)$."
   ]
  },
  {
   "cell_type": "markdown",
   "metadata": {},
   "source": [
    "### 3.1 Експоненційний розподіл"
   ]
  },
  {
   "cell_type": "markdown",
   "metadata": {},
   "source": [
    "Нехай $(\\xi_k, k \\geq 1)$ &mdash; н.о.р.в.в., де $\\xi_k \\sim Exp(1), k \\geq 1$.\n",
    "\n",
    "Зобразіть графічно збіжність із центральної граничної теореми.\n",
    "\n",
    "Для кожного $n = 1, 2, 3, 5, 10, 25, 50, 100, 200$ зобразіть:\n",
    "- нормовану гістограму $n\\_samples = 10000$ значень виразу\n",
    "$\\displaystyle \\frac{1}{\\sqrt{n}} \\sum_{i=1}^{n} (\\xi_i - \\mu)$, де $\\mu = E[\\xi_1]$;\n",
    "- графік функції щільності $\\zeta \\sim N(0, \\sigma^2)$, де $\\sigma^2 = D(\\xi_1)$.\n",
    "\n",
    "**Зауваження.** Виходить, що для розв'язання задачі необхідно генерувати $(n\\_samples \\cdot n)$ випадкових величин $\\xi_i$.\n",
    "З ними зручно буде працювати у формі матриці розміру $n\\_samples \\times n$.\n",
    "Тоді можна використати функцію `numpy.sum(axis=1)`."
   ]
  },
  {
   "cell_type": "code",
   "execution_count": 7,
   "metadata": {
    "collapsed": false,
    "scrolled": false
   },
   "outputs": [],
   "source": [
    "# Місце для Вашого коду\n",
    "\n"
   ]
  },
  {
   "cell_type": "markdown",
   "metadata": {},
   "source": [
    "### 3.2 Задача 1.23.24"
   ]
  },
  {
   "cell_type": "markdown",
   "metadata": {},
   "source": [
    "Випадкові величини $(\\xi_k, k \\geq 1)$ невід'ємні незалежні однаково розподілені, $E[\\xi_1] = 1, D(\\xi_1) = \\sigma^2$.\n",
    "Довести, що\n",
    "$\\displaystyle 2 \\left( \\sqrt{\\xi_1 + \\ldots + \\xi_n} - \\sqrt{n} \\right)\n",
    "\\xrightarrow{w} \\sigma \\zeta \\sim N(0, \\sigma^2), \\quad n \\to \\infty$.\n",
    "\n",
    "Нехай $\\xi_k \\sim Exp(1)$.\n",
    "\n",
    "Зобразіть графічно описану в задачі збіжність.\n",
    "\n",
    "Для кожного $n = 1, 2, 3, 5, 10, 25, 50, 100$ зобразіть:\n",
    "- нормовану гістограму $n\\_samples = 10000$ значень виразу\n",
    "$\\displaystyle 2 \\left( \\sqrt{\\xi_1 + \\ldots + \\xi_n} - \\sqrt{n} \\right)$;\n",
    "- графік функції щільності $\\sigma \\zeta \\sim N(0, \\sigma^2)$.\n",
    "\n",
    "**Зауваження 1.** Виходить, що для розв'язання задачі необхідно генерувати $(n\\_samples \\cdot n)$ випадкових величин $\\xi_i$.\n",
    "З ними зручно буде працювати у формі матриці розміру $n\\_samples \\times n$.\n",
    "Тоді можна використати функції `numpy.sum(axis=1)`.\n",
    "\n",
    "**Зауваження 2.** $\\xrightarrow{w}$ означає *слабку збіжність* (від англ. *weak*) або *збіжність за розподілом*.\n",
    "$\\xi_n \\xrightarrow{w} \\xi, n \\to \\infty$, якщо $P(\\xi_n < x) \\to P(\\xi < x), n \\to \\infty$,\n",
    "в усіх точках неперервності функції розподілу випадкової величини $\\xi$.\n",
    "\n",
    "**Зауваження 3.** Якщо $\\sigma \\zeta \\sim N(0, \\sigma^2)$, то $\\zeta \\sim N(0, 1)$."
   ]
  },
  {
   "cell_type": "code",
   "execution_count": 8,
   "metadata": {
    "collapsed": false,
    "scrolled": false
   },
   "outputs": [],
   "source": [
    "# Місце для Вашого коду\n",
    "\n"
   ]
  },
  {
   "cell_type": "markdown",
   "metadata": {},
   "source": [
    "### 3.3 Задача 1.18.35"
   ]
  },
  {
   "cell_type": "markdown",
   "metadata": {},
   "source": [
    "Випадкові величини $(\\xi_k, k \\geq 1)$ незалежні рівномірно розподілені:\n",
    "$\\xi_k \\sim Uniform(0, 1), \\xi_{(1:n)} = \\min_{1 \\leq k \\leq n} \\xi_k, \\xi_{(n:n)} = \\max_{1 \\leq k \\leq n} \\xi_k$.\n",
    "Довести, що:\n",
    "$\\displaystyle\n",
    "\\xi_{(1:n)} \\xrightarrow{P} 0,\n",
    "\\xi_{(n:n)} \\xrightarrow{P} 1,\n",
    "n \\xi_{(1:n)} \\xrightarrow{P} \\zeta,\n",
    "n \\left( 1 - \\xi_{(n:n)} \\right) \\xrightarrow{P} \\zeta,\n",
    "\\quad n \\to \\infty$, де $\\zeta \\sim Exp(1)$.\n",
    "\n",
    "Зобразіть графічно описані в задачі збіжності.\n",
    "\n",
    "1. Реалізуйте 2 сабплоти в 1 рядку.\n",
    "2. На першому сабплоті:\n",
    "   - Зобразіть графік функції $\\xi_{(1:n)}$ в залежності від $n = 1, \\ldots, 1000$.\n",
    "   - Додайте горизонтальну пряму, яка відповідає значенню, до якого прямує вираз $\\xi_{(1:n)}$.\n",
    "3. На другому сабплоті:\n",
    "   - Зобразіть графік функції $\\xi_{(n:n)}$ в залежності від $n = 1, \\ldots, 1000$.\n",
    "   - Додайте горизонтальну пряму, яка відповідає значенню, до якого прямує вираз $\\xi_{(n:n)}$.\n",
    "4. Для кожного $n = 1, 2, 3, 5, 10$ реалізуйте два сабплоти:\n",
    "   1. На першому сабплоті зобразіть:\n",
    "      - нормовану гістограму $n\\_samples = 10000$ значень виразу $n \\xi_{(1:n)}$;\n",
    "      - графік функції щільності $\\zeta \\sim Exp(1)$.\n",
    "   2. На другому сабплоті зобразіть:\n",
    "      - нормовану гістограму $n\\_samples = 10000$ значень виразу $n \\left( 1 - \\xi_{(n:n)} \\right)$;\n",
    "      - графік функції щільності $\\zeta \\sim Exp(1)$.\n",
    "\n",
    "**Зауваження 1.** При розв'язанні даної задачі зручно використовувати функції `numpy.minimum.accumulate` та `numpy.maximum.accumulate`.\n",
    "\n",
    "**Зауваження 2.** $\\xrightarrow{P}$ означає *збіжність за ймовірністю*.\n",
    "\n",
    "**Зауваження 3.** Виходить, що для розв'язання задачі необхідно генерувати $(n\\_samples \\cdot n)$ випадкових величин $\\xi_i$.\n",
    "З ними зручно буде працювати у формі матриці розміру $n\\_samples \\times n$.\n",
    "Тоді можна використати функції `numpy.min(axis=1)` та `numpy.max(axis=1)`."
   ]
  },
  {
   "cell_type": "code",
   "execution_count": 9,
   "metadata": {
    "collapsed": false
   },
   "outputs": [],
   "source": [
    "# Місце для Вашого коду\n",
    "\n"
   ]
  }
 ],
 "metadata": {
  "kernelspec": {
   "display_name": "Python 3",
   "language": "python",
   "name": "python3"
  },
  "language_info": {
   "codemirror_mode": {
    "name": "ipython",
    "version": 3
   },
   "file_extension": ".py",
   "mimetype": "text/x-python",
   "name": "python",
   "nbconvert_exporter": "python",
   "pygments_lexer": "ipython3",
   "version": "3.6.1"
  }
 },
 "nbformat": 4,
 "nbformat_minor": 0
}
