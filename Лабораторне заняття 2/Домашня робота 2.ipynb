{
 "cells" : [
  {
   "cell_type" : "markdown",
   "metadata" : { },
   "source" : [
    "# Домашня робота №2"
   ]
  },
  {
   "cell_type" : "markdown",
   "metadata" : { },
   "source" : [
    "## 1 Пароль\n",
    "Напишіть програму (функцію) для генерування випадкового пароля з такими обмеженнями:\n",
    "- пароль складається з рівно $10$ символів\n",
    "- пароль містить хоча б одну маленьку латинську літеру [a-z]\n",
    "- пароль містить хоча б одну велику латинську літеру [A-Z]\n",
    "- пароль містить хоча б одну цифру [0-9]\n",
    "- пароль містить хоча б один спеціальний символ [~!@#$%^&*()-_+=\\/{}[].,?<>:;]"
   ]
  },
  {
   "cell_type" : "code",
   "execution_count" : 73,
   "metadata" : {
    "pycharm" : {
     "is_executing" : false
    }
   },
   "outputs" : [
    {
     "name" : "stdout",
     "text" : [
      "47^<\\5HEi{\n"
     ],
     "output_type" : "stream"
    }
   ],
   "source" : [
    "# Місце для Вашого коду\n",
    "import numpy as np\n",
    "\n",
    "DIGITS = ('0', '1', '2', '3', '4',\n",
    "          '5', '6', '7', '8', '9')\n",
    "LETTERS_LOWER = ('a', 'b', 'c', 'd', 'e',\n",
    "                 'f', 'g', 'h', 'i', 'j',\n",
    "                 'k', 'l', 'm', 'n', 'o',\n",
    "                 'p', 'q', 'r', 's', 't',\n",
    "                 'u', 'v', 'w', 'x', 'y', 'z')\n",
    "LETTERS_UPPER = ('A', 'B', 'C', 'D', 'E',\n",
    "                 'F', 'G', 'H', 'I', 'J',\n",
    "                 'K', 'L', 'M', 'N', 'O',\n",
    "                 'P', 'Q', 'R', 'S', 'T',\n",
    "                 'U', 'V', 'W', 'X', 'Y', 'Z')\n",
    "\n",
    "OTHER = tuple(r\"~!@#$%^&*()-_+=\\/{}[].,?<>:;\")\n",
    "\n",
    "\n",
    "def generate():\n",
    "    password = ''\n",
    "\n",
    "    password += np.random.choice(LETTERS_LOWER)\n",
    "    password += np.random.choice(LETTERS_UPPER)\n",
    "    password += np.random.choice(DIGITS)\n",
    "    password += np.random.choice(OTHER)\n",
    "\n",
    "    for i in range(6):\n",
    "        password += np.random.choice(DIGITS + LETTERS_LOWER + LETTERS_UPPER + OTHER)\n",
    "\n",
    "    password = list(password)\n",
    "    np.random.shuffle(password)\n",
    "\n",
    "    return ''.join(password)\n",
    "\n",
    "\n",
    "print(generate())"
   ]
  },
  {
   "cell_type" : "markdown",
   "metadata" : { },
   "source" : [
    "## 2 Герби в ряд\n",
    "Реалізуйте функцію для обчислення емпіричної та теоретичної імовірностей випадіння $k$ гербів (HEADS) підряд у серії з $n$ підкидань чесної монетки. Підрахуйте відповідні ймовірності для таких параметрів:\n",
    "- $k = 2, n = 10, 50, 100, 500, 1000, 5000, 10000$\n",
    "- $k = 3, n = 10, 50, 100, 500, 1000, 5000, 10000$\n",
    "\n",
    "**Зауваження.** Нехай $k = 2, n = 10$ та маємо таку послідовність результатів підкидання монети: $\\{ H, T, H, H, H, H, T, T, H, T \\}$. Тоді матимемо $3$ випадки випадіння двох гербів підряд та емпіричну ймовірність такої події $1/3$."
   ]
  },
  {
   "cell_type" : "code",
   "execution_count" : 74,
   "metadata" : {
    "pycharm" : {
     "is_executing" : false
    }
   },
   "outputs" : [
    {
     "name" : "stdout",
     "text" : [
      "\n",
      "k = 2, n = 3, theoretical = 0.375, empirical = 0.0\n",
      "\n",
      "k = 3, n = 3, theoretical = 0.125, empirical = 0.0\n"
     ],
     "output_type" : "stream"
    }
   ],
   "source" : [
    "# Місце для Вашого коду\n",
    "\n",
    "from itertools import product\n",
    "\n",
    "sides = ['H', 'T']  # H - Heads; T - Tails\n",
    "\n",
    "def t_prob(p, q):\n",
    "    sub = 'H' * q\n",
    "    needed = 0\n",
    "    amount = 2 ** (p)\n",
    "\n",
    "    for el in product(sides, repeat=p):\n",
    "        tmp = ''.join(el)\n",
    "        if sub in tmp: needed += 1\n",
    "\n",
    "    return needed / amount\n",
    "\n",
    "\n",
    "def e_prob(p, q):\n",
    "    test = ''.join(list(np.random.choice(sides, p)))\n",
    "    return test.count('H'*q) / (p - q + 1)\n",
    "\n",
    "\n",
    "for k in [2, 3]:\n",
    "    print()\n",
    "    for n in [3, 10, 50, 100, 500, 1000, 5000, 10000]:\n",
    "        print(f\"k = {k}, n = {n}, theoretical = {t_prob(n, k)}, empirical = {e_prob(n, k)}\")\n",
    "        break  # Use break because my laptop dies after each attempt calling <product(*, repeat=50+)>\n"
   ]
  },
  {
   "cell_type" : "markdown",
   "metadata" : { },
   "source" : [
    "## 3 Найбільше число\n",
    "Реалізуйте функцію підрахунку точної (теоретичної) імовірності того, що максимальне число після $n$ кидків звичайного грального кубика дорівнює $x\\_max$, для таких параметрів:\n",
    "- $n = 3, x\\_max = 6$\n",
    "- $n = 2, x\\_max = 3$\n",
    "- $n = 3, x\\_max = 5$\n",
    "\n",
    "Тобто, якщо $X_i, i = 1, \\ldots, n$, - число на $i$-му кидку кубика, а $X = \\max\\limits_{1 \\leq i \\leq n} X_i$, то потрібно знайти ймовірність $\\textbf{P} \\left( X = x\\_max \\right)$.\n",
    "\n",
    "Підрахуйте також емпіричні ймовірності відповідних подій у випадку $10000$ симуляцій.\n",
    "\n",
    "**Зауваження.** Якщо введені параметри не мають сенсу, то повертати $0$.\n",
    "Тобто, якщо вводиться $x\\_max < 1$ або $x\\_max > 6$."
   ]
  },
  {
   "cell_type" : "code",
   "execution_count" : 75,
   "metadata" : {
    "pycharm" : {
     "is_executing" : false
    }
   },
   "outputs" : [
    {
     "name" : "stdout",
     "text" : [
      "n = 3, x_max = 6, teoretical = 0.4212962962962963, empirical = 0.424\n",
      "n = 2, x_max = 3, teoretical = 0.1388888888888889, empirical = 0.1455\n",
      "n = 3, x_max = 5, teoretical = 0.2824074074074074, empirical = 0.2817\n"
     ],
     "output_type" : "stream"
    }
   ],
   "source" : [
    "# Місце для Вашого коду\n",
    "def t_prob(p, q):\n",
    "    if q < 1 or q > 6: return 0\n",
    "    return (q ** p - (q - 1) ** p) / 6 ** p\n",
    "\n",
    "\n",
    "def e_prob(p, q):\n",
    "    if q < 1 or q > 6: return 0\n",
    "\n",
    "    needed = 0\n",
    "    space = range(1, 7)\n",
    "\n",
    "    for sim in range(10000):\n",
    "        tmp = np.random.choice(space, p)\n",
    "        if max(tmp) == q: needed += 1\n",
    "\n",
    "    return needed / 10000\n",
    "\n",
    "\n",
    "for n, x_max in [(3, 6), (2, 3), (3, 5)]:\n",
    "    t_res = t_prob(n, x_max)\n",
    "    p_res = e_prob(n, x_max)\n",
    "    print(f\"n = {n}, x_max = {x_max}, teoretical = {t_res}, empirical = {p_res}\")\n"
   ]
  },
  {
   "cell_type" : "markdown",
   "metadata" : { },
   "source" : [
    "## 4 Сума чисел\n",
    "Реалізуйте функцію підрахунку точної (теоретичної) імовірності того, що сума чисел після $n$ кидків звичайного грального кубика дорівнює $s$, для таких параметрів:\n",
    "- $n = 3, s = 13$\n",
    "- $n = 2, s = 5$\n",
    "- $n = 3, s = 7$\n",
    "\n",
    "Тобто, якщо $X_i, i = 1, \\ldots, n$, - число на $i$-му кидку кубика, а $X = \\sum\\limits_{i = 1}^{n} X_i$, то потрібно знайти ймовірність $\\textbf{P} \\left( X = s \\right)$.\n",
    "\n",
    "Підрахуйте також емпіричні ймовірності відповідних подій у випадку $10000$ симуляцій.\n",
    "\n",
    "**Зауваження.** Якщо введені параметри не мають сенсу, то повертати $0$.\n",
    "Наприклад, якщо при $n = 3$ вводиться $s < 3$ або $s > 18$."
   ]
  },
  {
   "cell_type" : "code",
   "execution_count" : 76,
   "outputs" : [
    {
     "name" : "stdout",
     "text" : [
      "n = 3, s = 13, teoretical = 0.09722222222222222, empirical = 0.0998\n",
      "n = 2, s = 5, teoretical = 0.1111111111111111, empirical = 0.1123\n",
      "n = 3, s = 7, teoretical = 0.06944444444444445, empirical = 0.0687\n"
     ],
     "output_type" : "stream"
    }
   ],
   "source" : [
    "# Місце для Вашого коду\n",
    "\n",
    "from itertools import product\n",
    "\n",
    "\n",
    "def t_prob(p, q):\n",
    "    if q < p or q > p * 6: return 0\n",
    "\n",
    "    count = 0\n",
    "    space = range(1, 7)\n",
    "\n",
    "    for test in product(space, repeat = p):\n",
    "        if sum(test) == q: count += 1\n",
    "\n",
    "    return count / 6 ** p\n",
    "\n",
    "\n",
    "def e_prob(p, q):\n",
    "    if q < p or q > p * 6: return 0\n",
    "\n",
    "    space = range(1, 7)\n",
    "    count = 0\n",
    "\n",
    "    for sim in range(10000):\n",
    "        test = np.random.choice(space, p)\n",
    "        if sum(test) == q:\n",
    "            count += 1\n",
    "\n",
    "    return count / 10000\n",
    "\n",
    "\n",
    "for n, s in [(3, 13), (2, 5), (3, 7)]:\n",
    "    t_res, e_res = t_prob(n, s), e_prob(n, s)\n",
    "    print(f\"n = {n}, s = {s}, teoretical = {t_res}, empirical = {e_res}\")"
   ],
   "metadata" : {
    "collapsed" : false,
    "pycharm" : {
     "name" : "#%%\n",
     "is_executing" : false
    }
   }
  },
  {
   "cell_type" : "markdown",
   "source" : [
    "\n"
   ],
   "metadata" : {
    "collapsed" : false
   }
  }
 ],
 "metadata" : {
  "kernelspec" : {
   "display_name" : "PyCharm (probability_theory_4s)",
   "language" : "python",
   "name" : "pycharm-1566f370"
  },
  "language_info" : {
   "codemirror_mode" : {
    "name" : "ipython",
    "version" : 3
   },
   "file_extension" : ".py",
   "mimetype" : "text/x-python",
   "name" : "python",
   "nbconvert_exporter" : "python",
   "pygments_lexer" : "ipython3",
   "version" : "3.7.4"
  },
  "pycharm" : {
   "stem_cell" : {
    "cell_type" : "raw",
    "source" : [ ],
    "metadata" : {
     "collapsed" : false
    }
   }
  }
 },
 "nbformat" : 4,
 "nbformat_minor" : 1
}