{
 "cells": [
  {
   "cell_type": "markdown",
   "metadata": {},
   "source": [
    "# Лабораторне заняття №2\n",
    "Знайомство з бібліотекою **NumPy**."
   ]
  },
  {
   "cell_type": "code",
   "execution_count": 1,
   "metadata": {},
   "outputs": [],
   "source": [
    "import numpy as np"
   ]
  },
  {
   "cell_type": "markdown",
   "metadata": {},
   "source": [
    "## 1 Огляд функцій випадкового вибору"
   ]
  },
  {
   "cell_type": "markdown",
   "metadata": {},
   "source": [
    "### 1.1 Функція *choice*\n",
    "Для детальної інформації див. [документацію](https://docs.scipy.org/doc/numpy-1.14.1/reference/generated/numpy.random.choice.html)."
   ]
  },
  {
   "cell_type": "code",
   "execution_count": 2,
   "metadata": {},
   "outputs": [
    {
     "name": "stdout",
     "output_type": "stream",
     "text": [
      "['2' '4.5' 'top' 'top' 'top' 'top' 'top' 'top' '4.5' 'bottom']\n"
     ]
    }
   ],
   "source": [
    "a = [\"top\", 2, \"bottom\", 4.5]\n",
    "size = 10\n",
    "probs = [0.4, 0.2, 0.1, 0.3]\n",
    "replace = True\n",
    "print(np.random.choice(a, size=size, replace=replace, p=probs))"
   ]
  },
  {
   "cell_type": "markdown",
   "metadata": {},
   "source": [
    "Згенеруйте одну випадкову цифру, вважаючи їх рівноймовірними."
   ]
  },
  {
   "cell_type": "code",
   "execution_count": 3,
   "metadata": {},
   "outputs": [
    {
     "name": "stdout",
     "output_type": "stream",
     "text": [
      "[2]\n"
     ]
    }
   ],
   "source": [
    "# Місце для Вашого коду\n",
    "a = [1, 2, 3, 4, 5, 6, 7, 8, 9, 0]\n",
    "print(np.random.choice(a, size=(1), replace=False))\n"
   ]
  },
  {
   "cell_type": "markdown",
   "metadata": {},
   "source": [
    "Згенеруйте випадкову матрицю $4 \\times 6$ із рівноймовірних цифр."
   ]
  },
  {
   "cell_type": "code",
   "execution_count": 4,
   "metadata": {},
   "outputs": [
    {
     "name": "stdout",
     "output_type": "stream",
     "text": [
      "[[6 8 2 3 5 7]\n",
      " [4 4 3 0 3 6]\n",
      " [9 6 8 4 3 3]\n",
      " [3 1 4 9 1 0]]\n"
     ]
    }
   ],
   "source": [
    "# Місце для Вашого коду\n",
    "print(np.random.choice(a, size=(4, 6), replace=True))\n"
   ]
  },
  {
   "cell_type": "markdown",
   "metadata": {},
   "source": [
    "### 1.2 Функція *randint*\n",
    "Для детальної інформації див. [документацію](https://docs.scipy.org/doc/numpy-1.14.1/reference/generated/numpy.random.randint.html)."
   ]
  },
  {
   "cell_type": "code",
   "execution_count": 5,
   "metadata": {},
   "outputs": [
    {
     "name": "stdout",
     "output_type": "stream",
     "text": [
      "[4 2 1 0 2 1 2 4 4 1]\n"
     ]
    }
   ],
   "source": [
    "low = 0\n",
    "high = 5\n",
    "size = 10\n",
    "print(np.random.randint(low=low, high=high, size=size))"
   ]
  },
  {
   "cell_type": "markdown",
   "metadata": {},
   "source": [
    "Згенеруйте одну випадкову цифру."
   ]
  },
  {
   "cell_type": "code",
   "execution_count": 6,
   "metadata": {},
   "outputs": [
    {
     "name": "stdout",
     "output_type": "stream",
     "text": [
      "4\n"
     ]
    }
   ],
   "source": [
    "# Місце для Вашого коду\n",
    "print(np.random.randint(10))\n"
   ]
  },
  {
   "cell_type": "markdown",
   "metadata": {},
   "source": [
    "Згенеруйте випадкову матрицю $4 \\times 5$ із двоцифрових чисел."
   ]
  },
  {
   "cell_type": "code",
   "execution_count": 7,
   "metadata": {},
   "outputs": [
    {
     "name": "stdout",
     "output_type": "stream",
     "text": [
      "[[24 10 74 49 61]\n",
      " [77 13 97 81 58]\n",
      " [24 84 55 33 45]\n",
      " [92 45 91 39 74]]\n"
     ]
    }
   ],
   "source": [
    "# Місце для Вашого коду\n",
    "print(np.random.randint(10, 100, size=(4, 5)))\n"
   ]
  },
  {
   "cell_type": "markdown",
   "metadata": {},
   "source": [
    "### 1.3 Функція *sample*\n",
    "Для детальної інформації див. [документацію](https://docs.scipy.org/doc/numpy-1.14.1/reference/generated/numpy.random.sample.html)."
   ]
  },
  {
   "cell_type": "code",
   "execution_count": 8,
   "metadata": {},
   "outputs": [
    {
     "name": "stdout",
     "output_type": "stream",
     "text": [
      "0.533320485957872\n"
     ]
    }
   ],
   "source": [
    "size = None\n",
    "print(np.random.sample(size=size))"
   ]
  },
  {
   "cell_type": "markdown",
   "metadata": {},
   "source": [
    "Згенеруйте випадкову матрицю $3 \\times 4$ із чисел з інтервалу $[0, 1)$."
   ]
  },
  {
   "cell_type": "code",
   "execution_count": 9,
   "metadata": {},
   "outputs": [
    {
     "data": {
      "text/plain": "array([[0.55528748, 0.52779392, 0.88175581, 0.17470615],\n       [0.35144972, 0.21345046, 0.37443907, 0.49073016],\n       [0.16661146, 0.23021395, 0.75296128, 0.14690564]])"
     },
     "execution_count": 9,
     "metadata": {},
     "output_type": "execute_result"
    }
   ],
   "source": [
    "# Місце для Вашого коду\n",
    "\n",
    "np.random.sample(size=(3, 4))"
   ]
  },
  {
   "cell_type": "markdown",
   "metadata": {},
   "source": [
    "Згенеруйте 10 випадкових чисел з інтервалу $[a, b)$."
   ]
  },
  {
   "cell_type": "code",
   "execution_count": 10,
   "metadata": {},
   "outputs": [],
   "source": [
    "a = 3\n",
    "b = 5"
   ]
  },
  {
   "cell_type": "code",
   "execution_count": 11,
   "metadata": {},
   "outputs": [
    {
     "data": {
      "text/plain": "array([4.61705703, 4.47684578, 3.15754212, 3.25267872, 3.47043916,\n       3.36115273, 4.53861887, 3.82929439, 3.4723731 , 3.15487499])"
     },
     "execution_count": 11,
     "metadata": {},
     "output_type": "execute_result"
    }
   ],
   "source": [
    "# Місце для Вашого коду\n",
    "\n",
    "(np.random.sample(size=10)) * (b - a) + a"
   ]
  },
  {
   "cell_type": "markdown",
   "metadata": {},
   "source": [
    "### 1.4 Функція *shuffle*\n",
    "Для детальної інформації див. [документацію](https://docs.scipy.org/doc/numpy-1.14.1/reference/generated/numpy.random.shuffle.html)."
   ]
  },
  {
   "cell_type": "code",
   "execution_count": 12,
   "metadata": {},
   "outputs": [
    {
     "name": "stdout",
     "output_type": "stream",
     "text": [
      "[2 0 7 6 8 5 9 4 1 3]\n"
     ]
    }
   ],
   "source": [
    "x = np.arange(10)\n",
    "np.random.shuffle(x)\n",
    "print(x)"
   ]
  },
  {
   "cell_type": "markdown",
   "metadata": {},
   "source": [
    "Перетасуйте матрицю $M$."
   ]
  },
  {
   "cell_type": "code",
   "execution_count": 13,
   "metadata": {},
   "outputs": [
    {
     "name": "stdout",
     "output_type": "stream",
     "text": [
      "[[ 0  1  2  3  4]\n",
      " [ 5  6  7  8  9]\n",
      " [10 11 12 13 14]\n",
      " [15 16 17 18 19]]\n"
     ]
    }
   ],
   "source": [
    "M = np.arange(20).reshape((4, 5))\n",
    "print(M)"
   ]
  },
  {
   "cell_type": "code",
   "execution_count": 14,
   "metadata": {},
   "outputs": [
    {
     "name": "stdout",
     "output_type": "stream",
     "text": [
      "[[11 16  6 10 12]\n",
      " [ 5  3  9  4  8]\n",
      " [ 7 18 19  2  0]\n",
      " [13 15 17  1 14]]\n"
     ]
    }
   ],
   "source": [
    "# Місце для Вашого коду\n",
    "M = M.reshape(1, 20)[0]\n",
    "np.random.shuffle(M)\n",
    "print(M.reshape(4, 5))\n"
   ]
  },
  {
   "cell_type": "markdown",
   "metadata": {},
   "source": [
    "## 2 Відтворюваність результатів\n",
    "Можна задати початкове значення для генератора. Це зафіксує \"випадкову\" послідовність."
   ]
  },
  {
   "cell_type": "code",
   "execution_count": 15,
   "metadata": {
    "collapsed": true
   },
   "outputs": [],
   "source": [
    "np.random.seed(42)"
   ]
  },
  {
   "cell_type": "code",
   "execution_count": 16,
   "metadata": {},
   "outputs": [
    {
     "name": "stdout",
     "output_type": "stream",
     "text": [
      "6\n"
     ]
    }
   ],
   "source": [
    "print(np.random.randint(10))"
   ]
  },
  {
   "cell_type": "code",
   "execution_count": 17,
   "metadata": {},
   "outputs": [
    {
     "name": "stdout",
     "output_type": "stream",
     "text": [
      "3\n"
     ]
    }
   ],
   "source": [
    "print(np.random.randint(10))"
   ]
  },
  {
   "cell_type": "code",
   "execution_count": 18,
   "metadata": {},
   "outputs": [
    {
     "name": "stdout",
     "output_type": "stream",
     "text": [
      "6\n",
      "3\n"
     ]
    }
   ],
   "source": [
    "np.random.seed(42)\n",
    "print(np.random.randint(10))\n",
    "print(np.random.randint(10))"
   ]
  },
  {
   "cell_type": "code",
   "execution_count": 19,
   "metadata": {},
   "outputs": [
    {
     "name": "stdout",
     "output_type": "stream",
     "text": [
      "[6 3 7 4 6 9 2 6 7 4]\n",
      "['l' 'l' 'l' 'b' 'r' 't' 'r' 'l' 'l' 'r']\n",
      "[6 3 7 4 6 9 2 6 7 4]\n",
      "['l' 'l' 'l' 'b' 'r' 't' 'r' 'l' 'l' 'r']\n"
     ]
    }
   ],
   "source": [
    "np.random.seed(42)\n",
    "print(np.random.randint(10, size=10))\n",
    "print(np.random.choice(['t', 'r', 'b', 'l'], size=10))\n",
    "np.random.seed(42)\n",
    "print(np.random.randint(10, size=10))\n",
    "print(np.random.choice(['t', 'r', 'b', 'l'], size=10))"
   ]
  },
  {
   "cell_type": "markdown",
   "metadata": {},
   "source": [
    "## 3 Монетка"
   ]
  },
  {
   "cell_type": "markdown",
   "metadata": {},
   "source": [
    "### 3.1 За допомогою функції *choice*"
   ]
  },
  {
   "cell_type": "code",
   "execution_count": 20,
   "metadata": {},
   "outputs": [
    {
     "name": "stdout",
     "output_type": "stream",
     "text": [
      "['H' 'H' 'H' 'H' 'T' 'H' 'H' 'T' 'H' 'H']\n"
     ]
    }
   ],
   "source": [
    "p=0.5\n",
    "n=10\n",
    "tosses=np.random.choice([\"H\",\"T\"],p=[p,1-p], size=n)\n",
    "print(tosses)"
   ]
  },
  {
   "cell_type": "code",
   "execution_count": 21,
   "metadata": {},
   "outputs": [
    {
     "name": "stdout",
     "output_type": "stream",
     "text": [
      "8 heads and 2 tails\n"
     ]
    }
   ],
   "source": [
    "heads = list(tosses).count(\"H\")\n",
    "tails = list(tosses).count(\"T\")\n",
    "\n",
    "print(\"{} heads and {} tails\".format(heads,tails))"
   ]
  },
  {
   "cell_type": "markdown",
   "metadata": {},
   "source": [
    "Просимулюйте $100$ підкидань монетки та підрахуйте кількість кожної із сторін."
   ]
  },
  {
   "cell_type": "code",
   "execution_count": 22,
   "metadata": {},
   "outputs": [
    {
     "name": "stdout",
     "output_type": "stream",
     "text": [
      "50 heads, and 50 tails\n"
     ]
    }
   ],
   "source": [
    "# Місце для Вашого коду\n",
    "\n",
    "tosses = np.random.choice(['H', 'T'], p=[0.5, 0.5], size=100)\n",
    "heads = list(tosses).count('H')\n",
    "tails = list(tosses).count('T')\n",
    "print(\"{} heads, and {} tails\".format(heads, tails))"
   ]
  },
  {
   "cell_type": "markdown",
   "metadata": {},
   "source": [
    "### 3.2 За допомогою функції *randint*\n",
    "Реалізуйте симуляцію підкидань монетки за допомогою функції **randint**. Просимулюйте $100$ підкидань монетки та підрахуйте кількість кожної із сторін."
   ]
  },
  {
   "cell_type": "code",
   "execution_count": 23,
   "metadata": {},
   "outputs": [
    {
     "name": "stdout",
     "output_type": "stream",
     "text": [
      "49 heads, and 51 tails\n"
     ]
    }
   ],
   "source": [
    "# Місце для Вашого коду\n",
    "\n",
    "tosses = np.random.randint(2, size=100)\n",
    "heads = list(tosses).count(1)\n",
    "tails = list(tosses).count(0)\n",
    "print(\"{} heads, and {} tails\".format(heads, tails))"
   ]
  },
  {
   "cell_type": "markdown",
   "metadata": {},
   "source": [
    "### 3.3 За допомогою функції *sample*\n",
    "Реалізуйте симуляцію підкидань монетки за допомогою функції **sample**. Просимулюйте $100$ підкидань монетки та підрахуйте кількість кожної із сторін."
   ]
  },
  {
   "cell_type": "code",
   "execution_count": 24,
   "metadata": {},
   "outputs": [
    {
     "name": "stdout",
     "output_type": "stream",
     "text": [
      "[0, 1, 0, 1, 0, 1, 0, 0, 0, 1, 1, 0, 1, 1, 1, 1, 0, 0, 1, 1, 1, 0, 0, 1, 1, 1, 1, 1, 0, 0, 1, 1, 0, 0, 1, 0, 0, 1, 1, 1, 0, 1, 0, 0, 1, 1, 1, 1, 1, 0, 0, 0, 0, 1, 0, 1, 1, 1, 1, 1, 0, 0, 1, 0, 0, 1, 0, 1, 1, 1, 0, 0, 1, 0, 1, 1, 1, 0, 0, 1, 0, 0, 1, 1, 1, 1, 0, 1, 1, 0, 1, 1, 1, 1, 1, 0, 0, 1, 1, 1]\n",
      "59 heads, and 41 tails\n"
     ]
    }
   ],
   "source": [
    "# Місце для Вашого коду\n",
    "tosses = list(map(int, map(round, np.random.sample(size=100))))\n",
    "heads = tosses.count(1)\n",
    "tails = tosses.count(0)\n",
    "print(tosses)\n",
    "print(\"{} heads, and {} tails\".format(heads, tails))\n"
   ]
  },
  {
   "cell_type": "markdown",
   "metadata": {},
   "source": [
    "### 3.4 Задача\n",
    "Знайдіть емпіричну ймовірність герба у симуляціях підкидання монетки $n = 10, 50, 100, 250, 500, 1000, 2500, 5000, 10000$ разів."
   ]
  },
  {
   "cell_type": "code",
   "execution_count": 25,
   "metadata": {},
   "outputs": [
    {
     "name": "stdout",
     "output_type": "stream",
     "text": [
      "n = 10, amount of heads = 5, probability = 0.5\n",
      "n = 50, amount of heads = 30, probability = 0.6\n",
      "n = 100, amount of heads = 54, probability = 0.54\n",
      "n = 250, amount of heads = 113, probability = 0.452\n",
      "n = 500, amount of heads = 246, probability = 0.492\n",
      "n = 1000, amount of heads = 473, probability = 0.473\n",
      "n = 2500, amount of heads = 1271, probability = 0.5084\n",
      "n = 5000, amount of heads = 2485, probability = 0.497\n",
      "n = 10000, amount of heads = 5003, probability = 0.5003\n"
     ]
    }
   ],
   "source": [
    "# Місце для Вашого коду\n",
    "for n in [10, 50, 100, 250, 500, 1000, 2500, 5000, 10000]:\n",
    "    tmp_tosses = list(np.random.randint(0, 2, size=n))\n",
    "    tmp = tmp_tosses.count(1)\n",
    "    print(\"n = {}, amount of heads = {}, probability = {}\".format(n, tmp, tmp / n))\n"
   ]
  },
  {
   "cell_type": "markdown",
   "metadata": {},
   "source": [
    "## 4 Гральний кубик\n",
    "### 4.1 Реалізація симуляцій\n",
    "Реалізуйте симуляцію кидків грального кубика за допомогою функції **???**. Просимулюйте $60$ кидків кубика та підрахуйте кількість кожної із сторін."
   ]
  },
  {
   "cell_type": "code",
   "execution_count": 26,
   "metadata": {},
   "outputs": [
    {
     "name": "stdout",
     "output_type": "stream",
     "text": [
      "[3, 4, 4, 4, 6, 1, 3, 6, 3, 6, 6, 1, 3, 6, 1, 2, 5, 6, 4, 1, 1, 6, 1, 2, 1, 5, 5, 4, 2, 5, 6, 3, 3, 3, 6, 1, 6, 1, 3, 4, 4, 1, 3, 6, 4, 1, 6, 3, 2, 3, 3, 6, 6, 5, 5, 6, 6, 2, 2, 3]\n",
      "n = 1, amount = 11\n",
      "n = 2, amount = 6\n",
      "n = 3, amount = 13\n",
      "n = 4, amount = 8\n",
      "n = 5, amount = 6\n",
      "n = 6, amount = 16\n"
     ]
    }
   ],
   "source": [
    "# Місце для Вашого коду\n",
    "test = list(np.random.randint(1, 7, size=60))\n",
    "print(test)\n",
    "for i in range(1, 7):\n",
    "    print(\"n = {}, amount = {}\".format(i, test.count(i)))"
   ]
  },
  {
   "cell_type": "markdown",
   "metadata": {},
   "source": [
    "### 4.2 Задача\n",
    "Знайдіть емпіричну ймовірність кожної сторони у симуляціях кидання грального кубика $n = 10, 50, 100, 250, 500, 1000, 2500, 5000, 10000$ разів."
   ]
  },
  {
   "cell_type": "code",
   "execution_count": 27,
   "metadata": {},
   "outputs": [
    {
     "name": "stdout",
     "output_type": "stream",
     "text": [
      "n = 10, probabilities = [0.2, 0.1, 0.2, 0.2, 0.2, 0.1]\n",
      "n = 50, probabilities = [0.16, 0.14, 0.2, 0.18, 0.2, 0.12]\n",
      "n = 100, probabilities = [0.19, 0.16, 0.15, 0.17, 0.1, 0.23]\n",
      "n = 250, probabilities = [0.16, 0.148, 0.164, 0.2, 0.196, 0.132]\n",
      "n = 500, probabilities = [0.164, 0.158, 0.15, 0.18, 0.14, 0.208]\n",
      "n = 1000, probabilities = [0.154, 0.184, 0.163, 0.161, 0.167, 0.171]\n",
      "n = 2500, probabilities = [0.1708, 0.1672, 0.1576, 0.17, 0.1696, 0.1648]\n",
      "n = 5000, probabilities = [0.1724, 0.1774, 0.1614, 0.1588, 0.1616, 0.1684]\n",
      "n = 10000, probabilities = [0.1631, 0.1609, 0.1628, 0.1738, 0.1764, 0.163]\n",
      "0.16666666666666666\n"
     ]
    }
   ],
   "source": [
    "# Місце для Вашого коду\n",
    "for n in [10, 50, 100, 250, 500, 1000, 2500, 5000, 10000]:\n",
    "    test = list(np.random.randint(1, 7, size=n))\n",
    "    probabilities = [test.count(_)/n for _ in range(1, 7)]\n",
    "    print(\"n = {}, probabilities = {}\".format(n, probabilities))\n",
    "print(1/6)\n"
   ]
  },
  {
   "cell_type": "markdown",
   "metadata": {},
   "source": [
    "## 5 Колода карт\n",
    "### 5.1 Реалізація"
   ]
  },
  {
   "cell_type": "code",
   "execution_count": 28,
   "metadata": {},
   "outputs": [
    {
     "name": "stdout",
     "output_type": "stream",
     "text": [
      "[('J', '♢'), ('J', '♠'), ('J', '♡'), ('J', '♣'), ('1', '♢'), ('1', '♠'), ('1', '♡'), ('1', '♣'), ('Q', '♢'), ('Q', '♠'), ('Q', '♡'), ('Q', '♣'), ('10', '♢'), ('10', '♠'), ('10', '♡'), ('10', '♣'), ('3', '♢'), ('3', '♠'), ('3', '♡'), ('3', '♣'), ('6', '♢'), ('6', '♠'), ('6', '♡'), ('6', '♣'), ('9', '♢'), ('9', '♠'), ('9', '♡'), ('9', '♣'), ('5', '♢'), ('5', '♠'), ('5', '♡'), ('5', '♣'), ('2', '♢'), ('2', '♠'), ('2', '♡'), ('2', '♣'), ('K', '♢'), ('K', '♠'), ('K', '♡'), ('K', '♣'), ('4', '♢'), ('4', '♠'), ('4', '♡'), ('4', '♣'), ('7', '♢'), ('7', '♠'), ('7', '♡'), ('7', '♣'), ('8', '♢'), ('8', '♠'), ('8', '♡'), ('8', '♣')]\n"
     ]
    }
   ],
   "source": [
    "# Визначимо номінали, масті та карти\n",
    "Ranks = {'1', '2', '3', '4', '5', '6', '7', '8', '9', '10', 'J', 'Q', 'K'}\n",
    "Suits = {'♢', '♠', '♣', '♡'}\n",
    "# Створимо колоду карт\n",
    "Cards = [(Rank, Suit) for Rank in Ranks for Suit in Suits]\n",
    "print(Cards)"
   ]
  },
  {
   "cell_type": "code",
   "execution_count": 29,
   "metadata": {},
   "outputs": [
    {
     "name": "stdout",
     "output_type": "stream",
     "text": [
      "J♢, J♠, J♡, J♣, 1♢, 1♠, 1♡, 1♣, Q♢, Q♠, Q♡, Q♣, 10♢, 10♠, 10♡, 10♣, 3♢, 3♠, 3♡, 3♣, 6♢, 6♠, 6♡, 6♣, 9♢, 9♠, 9♡, 9♣, 5♢, 5♠, 5♡, 5♣, 2♢, 2♠, 2♡, 2♣, K♢, K♠, K♡, K♣, 4♢, 4♠, 4♡, 4♣, 7♢, 7♠, 7♡, 7♣, 8♢, 8♠, 8♡, 8♣\n"
     ]
    }
   ],
   "source": [
    "# Інший вівід результату\n",
    "print(', '.join([(card[0] + card[1]) for card in Cards]))"
   ]
  },
  {
   "cell_type": "code",
   "execution_count": 30,
   "metadata": {},
   "outputs": [
    {
     "name": "stdout",
     "output_type": "stream",
     "text": [
      "♢J, ♢1, ♢Q, ♢10, ♢3, ♢6, ♢9, ♢5, ♢2, ♢K, ♢4, ♢7, ♢8\n",
      "♠J, ♠1, ♠Q, ♠10, ♠3, ♠6, ♠9, ♠5, ♠2, ♠K, ♠4, ♠7, ♠8\n",
      "♡J, ♡1, ♡Q, ♡10, ♡3, ♡6, ♡9, ♡5, ♡2, ♡K, ♡4, ♡7, ♡8\n",
      "♣J, ♣1, ♣Q, ♣10, ♣3, ♣6, ♣9, ♣5, ♣2, ♣K, ♣4, ♣7, ♣8\n"
     ]
    }
   ],
   "source": [
    "# Або згрупувавши по мастях\n",
    "for suit in Suits:\n",
    "    print(\", \".join([(suit+rank) for rank in Ranks]))"
   ]
  },
  {
   "cell_type": "code",
   "execution_count": 31,
   "metadata": {},
   "outputs": [
    {
     "name": "stdout",
     "output_type": "stream",
     "text": [
      "[('8', '♠'), ('2', '♠'), ('10', '♠'), ('6', '♠'), ('7', '♡'), ('3', '♣'), ('2', '♣'), ('7', '♣'), ('1', '♠'), ('9', '♡'), ('7', '♠'), ('3', '♢'), ('J', '♠'), ('9', '♣'), ('10', '♢'), ('8', '♣'), ('2', '♡'), ('Q', '♢'), ('J', '♡'), ('4', '♣'), ('4', '♠'), ('Q', '♣'), ('Q', '♡'), ('10', '♣'), ('5', '♣'), ('Q', '♠'), ('3', '♡'), ('10', '♡'), ('K', '♢'), ('2', '♢'), ('9', '♠'), ('8', '♡'), ('1', '♣'), ('3', '♠'), ('5', '♠'), ('4', '♡'), ('7', '♢'), ('1', '♢'), ('K', '♠'), ('5', '♡'), ('9', '♢'), ('4', '♢'), ('J', '♢'), ('8', '♢'), ('K', '♣'), ('6', '♡'), ('1', '♡'), ('K', '♡'), ('6', '♢'), ('J', '♣'), ('6', '♣'), ('5', '♢')]\n"
     ]
    }
   ],
   "source": [
    "# Перемішаємо колоду\n",
    "np.random.shuffle(Cards)\n",
    "\n",
    "print(Cards)"
   ]
  },
  {
   "cell_type": "markdown",
   "metadata": {},
   "source": [
    "### 5.2 Задача\n",
    "Знайдіть емпіричну ймовірність карти парного числа (2, 4, 6, 8, 10) у симуляціях вибору однієї карти з колоди 52 карт $n = 10, 50, 100, 250, 500, 1000, 2500, 5000, 10000$ разів."
   ]
  },
  {
   "cell_type": "code",
   "execution_count": 32,
   "metadata": {},
   "outputs": [
    {
     "name": "stdout",
     "output_type": "stream",
     "text": [
      "['8 ♠', '2 ♠', '10 ♠', '6 ♠', '7 ♡', '3 ♣', '2 ♣', '7 ♣', '1 ♠', '9 ♡', '7 ♠', '3 ♢', 'J ♠', '9 ♣', '10 ♢', '8 ♣', '2 ♡', 'Q ♢', 'J ♡', '4 ♣', '4 ♠', 'Q ♣', 'Q ♡', '10 ♣', '5 ♣', 'Q ♠', '3 ♡', '10 ♡', 'K ♢', '2 ♢', '9 ♠', '8 ♡', '1 ♣', '3 ♠', '5 ♠', '4 ♡', '7 ♢', '1 ♢', 'K ♠', '5 ♡', '9 ♢', '4 ♢', 'J ♢', '8 ♢', 'K ♣', '6 ♡', '1 ♡', 'K ♡', '6 ♢', 'J ♣', '6 ♣', '5 ♢']\n",
      "n = 10, amount of even cards = 2, probability = 0.2\n",
      "n = 50, amount of even cards = 14, probability = 0.28\n",
      "n = 100, amount of even cards = 25, probability = 0.25\n",
      "n = 250, amount of even cards = 71, probability = 0.284\n",
      "n = 500, amount of even cards = 150, probability = 0.3\n",
      "n = 1000, amount of even cards = 316, probability = 0.316\n",
      "n = 2500, amount of even cards = 733, probability = 0.2932\n",
      "n = 5000, amount of even cards = 1508, probability = 0.3016\n",
      "n = 10000, amount of even cards = 3183, probability = 0.3183\n"
     ]
    }
   ],
   "source": [
    "# Місце для Вашого коду\n",
    "norm_cards = list(map(lambda a: str(a[0]) + ' ' + str(a[1]), Cards))\n",
    "print(norm_cards)\n",
    "for n in [10, 50, 100, 250, 500, 1000, 2500, 5000, 10000]:\n",
    "    test = np.random.choice(norm_cards, size=n, replace=True)\n",
    "    amount = len([el for el in test if el[0] in ['2', '4', '6', '8', '10']])\n",
    "    print(\"n = {}, amount of even cards = {}, probability = {}\".format(n, amount, amount/n))\n"
   ]
  },
  {
   "cell_type": "markdown",
   "metadata": {},
   "source": [
    "### 5.3 Задача\n",
    "Випадковим чином роздайте колоду з 52 карт чотирьом гравцям (кожному по 13 карт) так, щоб кожен з них мав 4 карти однієї масті та по 3 карти інших мастей. Наприклад, {♣5, ♣10, ♣8, ♣4, ♠4, ♠J, ♠3, ♢Q, ♢7, ♢K, ♡9, ♡1, ♡5}."
   ]
  },
  {
   "cell_type": "code",
   "execution_count": 33,
   "metadata": {
    "collapsed": true
   },
   "outputs": [
    {
     "name": "stdout",
     "output_type": "stream",
     "text": [
      "♡Q, ♠3, ♢4, ♣8, ♡3, ♠2, ♣Q, ♢10, ♡8, ♣10, ♢8, ♢9, ♠7\n",
      "♡7, ♣4, ♣7, ♡10, ♢Q, ♣1, ♠Q, ♢K, ♡2, ♠9, ♢6, ♠K, ♠5\n",
      "♠1, ♡4, ♢J, ♢1, ♣3, ♣J, ♢3, ♣5, ♡5, ♡1, ♠6, ♠10, ♡6\n",
      "♡K, ♡9, ♠4, ♣6, ♢7, ♣K, ♣2, ♠J, ♢5, ♢2, ♠8, ♣9, ♡J\n"
     ]
    }
   ],
   "source": [
    "# Місце для Вашого коду\n",
    "hands = [[] for i in range(4)]\n",
    "for i, suit in enumerate(Suits):\n",
    "    current_hand = [(suit, rank) for rank in Ranks]\n",
    "    np.random.shuffle(current_hand)\n",
    "    for h in range(4):\n",
    "        card_num = 4 if i==h else 3\n",
    "        hands[h] += current_hand[:card_num]\n",
    "        current_hand = current_hand[card_num:]\n",
    "\n",
    "for hand in hands:\n",
    "    np.random.shuffle(hand)\n",
    "    print(', '.join((suit+rank) for suit, rank in hand))\n"
   ]
  },
  {
   "cell_type": "markdown",
   "metadata": {},
   "source": [
    "### 5.4 Задача\n",
    "Випадковим чином роздайте колоду з 52 карт чотирьом гравцям (кожному по 13 карт) так, щоб кожен з них мав від 2 до 5 карт кожної масті. Наприклад, {♣5, ♣10, ♣8, ♣4, ♠4, ♠J, ♠3, ♢Q, ♣7, ♢K, ♡9, ♡1, ♡5}."
   ]
  },
  {
   "cell_type": "code",
   "execution_count": 34,
   "metadata": {
    "collapsed": true
   },
   "outputs": [
    {
     "name": "stdout",
     "output_type": "stream",
     "text": [
      "♠8, ♣5, ♣Q, ♠1, ♣1, ♡7, ♢10, ♣J, ♢Q, ♢8, ♡K, ♣3, ♠3\n",
      "♡J, ♠5, ♣10, ♠J, ♡Q, ♢5, ♣K, ♠10, ♢2, ♣2, ♢7, ♡1, ♠6\n",
      "♠4, ♡2, ♢6, ♠2, ♣7, ♠7, ♡6, ♢J, ♣9, ♠9, ♡4, ♡10, ♢3\n",
      "♢1, ♡8, ♡9, ♣8, ♢4, ♢9, ♣6, ♣4, ♡3, ♢K, ♡5, ♠K, ♠Q\n"
     ]
    }
   ],
   "source": [
    "# Місце для Вашого коду\n",
    "def get_random_split(low, high):\n",
    "    summ = 13\n",
    "    ind = []\n",
    "    while True:\n",
    "        ind = np.random.randint(low=2, high=6, size=(3, 3))\n",
    "        a_row = np.array([13 - np.apply_along_axis(sum, 0, ind)])\n",
    "        if all(a_row[0] <= 5) and all(a_row[0] >= 2):\n",
    "            ind = np.concatenate((ind, a_row), axis=0)\n",
    "            a_col = np.array([13 - np.apply_along_axis(sum, 1, ind)])\n",
    "            if all(a_col[0] <= 5) and all(a_col[0] >= 2):\n",
    "                ind = np.concatenate((ind, a_col.T), axis=1)\n",
    "                break\n",
    "\n",
    "    return ind\n",
    "\n",
    "hands = [[] for i in range(4)]\n",
    "split = get_random_split(2, 5)\n",
    "for i, suit in enumerate(Suits):\n",
    "    current_hand = [(suit, rank) for rank in Ranks]\n",
    "    np.random.shuffle(current_hand)\n",
    "    for j, card_num in enumerate(split[i]):\n",
    "        hands[j] += current_hand[:card_num]\n",
    "        current_hand = current_hand[card_num:]\n",
    "\n",
    "for hand in hands:\n",
    "    np.random.shuffle(hand)\n",
    "    print(', '.join((suit+rank) for suit, rank in hand))\n"
   ]
  },
  {
   "cell_type": "markdown",
   "source": [],
   "metadata": {
    "collapsed": false
   }
  }
 ],
 "metadata": {
  "kernelspec": {
   "name": "pycharm-1566f370",
   "language": "python",
   "display_name": "PyCharm (probability_theory_4s)"
  },
  "language_info": {
   "codemirror_mode": {
    "name": "ipython",
    "version": 3
   },
   "file_extension": ".py",
   "mimetype": "text/x-python",
   "name": "python",
   "nbconvert_exporter": "python",
   "pygments_lexer": "ipython3",
   "version": "3.6.7"
  }
 },
 "nbformat": 4,
 "nbformat_minor": 1
}